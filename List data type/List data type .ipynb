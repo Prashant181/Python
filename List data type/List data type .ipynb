{
 "cells": [
  {
   "cell_type": "markdown",
   "metadata": {},
   "source": [
    "# List data type"
   ]
  },
  {
   "cell_type": "markdown",
   "metadata": {},
   "source": [
    "A list in Python is used to store the sequence of various types of data. \n",
    " Python lists are mutable type its mean we can modify its element after it created. \n",
    " However, Python consists of six data-types that are capable to store the sequences,\n",
    " But the most common and reliable type is the list."
   ]
  },
  {
   "cell_type": "markdown",
   "metadata": {},
   "source": [
    "items in the list are separated with the comma (,) and enclosed with the square brackets [ ]."
   ]
  },
  {
   "cell_type": "code",
   "execution_count": 1,
   "metadata": {},
   "outputs": [],
   "source": [
    "# The lists are ordered.\n",
    "# The element of the list can access by index.\n",
    "# The lists are the mutable type.\n",
    "# A list can store the number of various elements.\n",
    "# there are various pre-defined methods in list data type which helps us to done the work easily"
   ]
  },
  {
   "cell_type": "code",
   "execution_count": 2,
   "metadata": {},
   "outputs": [
    {
     "data": {
      "text/plain": [
       "[1, 2, 3, 4]"
      ]
     },
     "execution_count": 2,
     "metadata": {},
     "output_type": "execute_result"
    }
   ],
   "source": [
    "a=[1,2,3,4]\n",
    "a"
   ]
  },
  {
   "cell_type": "code",
   "execution_count": 3,
   "metadata": {},
   "outputs": [
    {
     "data": {
      "text/plain": [
       "list"
      ]
     },
     "execution_count": 3,
     "metadata": {},
     "output_type": "execute_result"
    }
   ],
   "source": [
    "type(a)            # cheaking data type"
   ]
  },
  {
   "cell_type": "code",
   "execution_count": 4,
   "metadata": {},
   "outputs": [
    {
     "name": "stdout",
     "output_type": "stream",
     "text": [
      "[23, 23.0, 'prashant']\n",
      "<class 'int'>\n",
      "<class 'float'>\n",
      "<class 'str'>\n"
     ]
    }
   ],
   "source": [
    "# in list we can pass any type of data \n",
    "# either it may be in numerical data or categorical data\n",
    "# integers ,  float , strings\n",
    "\n",
    "a=[23,23.0,'prashant']\n",
    "print(a)\n",
    "for i in a:\n",
    "    print(type(i))"
   ]
  },
  {
   "cell_type": "code",
   "execution_count": 5,
   "metadata": {},
   "outputs": [],
   "source": [
    "# some predefined functions are\n",
    "#----------------------------------------\n",
    "# append\n",
    "# insert\n",
    "# extend\n",
    "# sum\n",
    "# len\n",
    "# index\n",
    "# min\n",
    "# max\n",
    "# sort\n",
    "# pop\n",
    "# del\n",
    "# remove"
   ]
  },
  {
   "cell_type": "code",
   "execution_count": 6,
   "metadata": {},
   "outputs": [
    {
     "name": "stdout",
     "output_type": "stream",
     "text": [
      "[4, 5, 6, 7, 10]\n",
      "['Beirut', 'Milan', 'Pittsburgh', 'Buenos Aires', 'Nairobi', 'Kathmandu', 'Osaka', 'Melbourne', 'Guadalajara']\n"
     ]
    }
   ],
   "source": [
    "#append\n",
    "# append function used to add the element to the existing list\n",
    "# the element 10 will be added to the end of the list \n",
    "# append function will add the element to the end of the list only\n",
    "\n",
    "a=[4,5,6,7]  \n",
    "a.append(10)    \n",
    "print(a)\n",
    "\n",
    "trav_dest = ['Beirut', 'Milan', 'Pittsburgh', 'Buenos Aires', 'Nairobi', 'Kathmandu', 'Osaka', 'Melbourne']\n",
    "trav_dest.append('Guadalajara')\n",
    "print(trav_dest)"
   ]
  },
  {
   "cell_type": "code",
   "execution_count": 7,
   "metadata": {},
   "outputs": [
    {
     "name": "stdout",
     "output_type": "stream",
     "text": [
      "enter a number45\n",
      "samallest divisor of given number 3\n"
     ]
    }
   ],
   "source": [
    "# using append function write python programme to find the smallest divisor of an integer \n",
    "n=int(input('enter a number'))\n",
    "a=[]\n",
    "for i in range(2,n):\n",
    "    if n%i==0:\n",
    "        a.append(i)\n",
    "        a.sort()\n",
    "print('samallest divisor of given number',a[0])"
   ]
  },
  {
   "cell_type": "code",
   "execution_count": 8,
   "metadata": {},
   "outputs": [
    {
     "name": "stdout",
     "output_type": "stream",
     "text": [
      "['cricket', 'football', 'horseback riding', 'volleyball', 'baseball', 'softball']\n"
     ]
    }
   ],
   "source": [
    "# insert method\n",
    "# inserting the elements at particular point where we needed\n",
    "\n",
    "sports = ['cricket', 'football', 'volleyball', 'baseball', 'softball']\n",
    "sports.insert(2,'horseback riding')\n",
    "print(sports)"
   ]
  },
  {
   "cell_type": "code",
   "execution_count": 9,
   "metadata": {},
   "outputs": [
    {
     "name": "stdout",
     "output_type": "stream",
     "text": [
      "[1, 2, 3, 4, 5, 6]\n"
     ]
    }
   ],
   "source": [
    "# extend method\n",
    "# which extends the list\n",
    "a=[1,2,3]\n",
    "b=[4,5,6]\n",
    "a.extend(b)\n",
    "print(a)"
   ]
  },
  {
   "cell_type": "code",
   "execution_count": 10,
   "metadata": {},
   "outputs": [
    {
     "name": "stdout",
     "output_type": "stream",
     "text": [
      "[4, 5, 6, 1, 2, 3]\n"
     ]
    }
   ],
   "source": [
    "a=[1,2,3]\n",
    "b=[4,5,6]\n",
    "b.extend(a)\n",
    "print(b)"
   ]
  },
  {
   "cell_type": "code",
   "execution_count": 11,
   "metadata": {},
   "outputs": [
    {
     "data": {
      "text/plain": [
       "15"
      ]
     },
     "execution_count": 11,
     "metadata": {},
     "output_type": "execute_result"
    }
   ],
   "source": [
    "# sum \n",
    "# adding all  values in the list\n",
    "a=[1,2,3,4,5]\n",
    "sum(a)"
   ]
  },
  {
   "cell_type": "code",
   "execution_count": 12,
   "metadata": {},
   "outputs": [
    {
     "name": "stdout",
     "output_type": "stream",
     "text": [
      "15\n"
     ]
    }
   ],
   "source": [
    "# Write a program to find the sum of the element in the list using for loop.\n",
    "\n",
    "a=[1,2,3,4,5]\n",
    "sum=0\n",
    "for i in a:\n",
    "    sum=sum+i\n",
    "print(sum)"
   ]
  },
  {
   "cell_type": "code",
   "execution_count": 13,
   "metadata": {},
   "outputs": [
    {
     "data": {
      "text/plain": [
       "8"
      ]
     },
     "execution_count": 13,
     "metadata": {},
     "output_type": "execute_result"
    }
   ],
   "source": [
    "# len \n",
    "# finding length of the list\n",
    "a=[4,3,5,9,7,8,1,2]\n",
    "len(a)"
   ]
  },
  {
   "cell_type": "code",
   "execution_count": 14,
   "metadata": {},
   "outputs": [
    {
     "data": {
      "text/plain": [
       "2"
      ]
     },
     "execution_count": 14,
     "metadata": {},
     "output_type": "execute_result"
    }
   ],
   "source": [
    "# index\n",
    "# finding the index\n",
    "a=[1,2,3,4,5]\n",
    "a.index(3)"
   ]
  },
  {
   "cell_type": "code",
   "execution_count": 15,
   "metadata": {},
   "outputs": [
    {
     "data": {
      "text/plain": [
       "1"
      ]
     },
     "execution_count": 15,
     "metadata": {},
     "output_type": "execute_result"
    }
   ],
   "source": [
    "# min \n",
    "# finding the minimum value in the list\n",
    "\n",
    "a=[1,2,3,4,5]\n",
    "min(a)"
   ]
  },
  {
   "cell_type": "code",
   "execution_count": 16,
   "metadata": {},
   "outputs": [
    {
     "data": {
      "text/plain": [
       "4"
      ]
     },
     "execution_count": 16,
     "metadata": {},
     "output_type": "execute_result"
    }
   ],
   "source": [
    "# max\n",
    "# finding the maximum value in the list\n",
    "\n",
    "a=[1,2,3,4]\n",
    "max(a)"
   ]
  },
  {
   "cell_type": "code",
   "execution_count": 17,
   "metadata": {},
   "outputs": [
    {
     "name": "stdout",
     "output_type": "stream",
     "text": [
      "[1, 3, 6, 8, 9]\n",
      "[9, 8, 7, 5, 1]\n"
     ]
    }
   ],
   "source": [
    "# sorting the algorithm in the ascending order\n",
    "\n",
    "a=[9,3,6,8,1]\n",
    "a.sort()\n",
    "print(a)\n",
    "\n",
    "# sorting the algorithm in the descending order\n",
    "\n",
    "b=[7,8,5,9,1]\n",
    "b.sort(reverse=True)\n",
    "print(b)"
   ]
  },
  {
   "cell_type": "code",
   "execution_count": 18,
   "metadata": {},
   "outputs": [
    {
     "name": "stdout",
     "output_type": "stream",
     "text": [
      "['cat', 'dog', 'elephant', 'monkey', 'tiger', 'zebra']\n",
      "['zebra', 'tiger', 'monkey', 'elephant', 'dog', 'cat']\n"
     ]
    }
   ],
   "source": [
    "# Write code to rearrange the strings in the  alphabetical order from A to Z.\n",
    "\n",
    "a=['zebra','cat','dog','tiger','elephant','monkey']\n",
    "a.sort()\n",
    "print(a)\n",
    "\n",
    "# Write code to rearrange the strings in the  alphabetical order from Z to A\n",
    "\n",
    "b=['zebra','cat','dog','tiger','elephant','monkey']\n",
    "b.sort(reverse=True)\n",
    "print(b)\n"
   ]
  },
  {
   "cell_type": "code",
   "execution_count": null,
   "metadata": {},
   "outputs": [],
   "source": []
  },
  {
   "cell_type": "code",
   "execution_count": 19,
   "metadata": {},
   "outputs": [
    {
     "name": "stdout",
     "output_type": "stream",
     "text": [
      "[1, 2, 3, 4, 5]\n",
      "[7, 2, 6, 4]\n"
     ]
    }
   ],
   "source": [
    "# pop\n",
    "# pop method uses to take out particular value\n",
    "\n",
    "a=[1,2,3,4,5,6]\n",
    "a.pop()            # default it takes out last value in the list\n",
    "a\n",
    "print(a)\n",
    "\n",
    "b=[7,2,6,5,4]\n",
    "b.pop(3)           # elemenation depends on index values\n",
    "print(b)"
   ]
  },
  {
   "cell_type": "code",
   "execution_count": 20,
   "metadata": {},
   "outputs": [
    {
     "data": {
      "text/plain": [
       "[1, 2, 4]"
      ]
     },
     "execution_count": 20,
     "metadata": {},
     "output_type": "execute_result"
    }
   ],
   "source": [
    "# del \n",
    "a=[1,2,3,4]\n",
    "del a[2]          # depends on  index values\n",
    "a"
   ]
  },
  {
   "cell_type": "code",
   "execution_count": null,
   "metadata": {},
   "outputs": [],
   "source": []
  },
  {
   "cell_type": "code",
   "execution_count": 21,
   "metadata": {},
   "outputs": [
    {
     "data": {
      "text/plain": [
       "[7, 8, 4, 5, 3]"
      ]
     },
     "execution_count": 21,
     "metadata": {},
     "output_type": "execute_result"
    }
   ],
   "source": [
    "# remove \n",
    "a=[7,8,9,4,5,3]\n",
    "a.remove(9)        # directly deletes the element\n",
    "a"
   ]
  },
  {
   "cell_type": "code",
   "execution_count": 22,
   "metadata": {},
   "outputs": [
    {
     "data": {
      "text/plain": [
       "[]"
      ]
     },
     "execution_count": 22,
     "metadata": {},
     "output_type": "execute_result"
    }
   ],
   "source": [
    "# clear\n",
    "a=[7,8,'prash',4.5]      \n",
    "a.clear()              # remove the all elements in list\n",
    "a"
   ]
  },
  {
   "cell_type": "code",
   "execution_count": 23,
   "metadata": {},
   "outputs": [
    {
     "data": {
      "text/plain": [
       "2"
      ]
     },
     "execution_count": 23,
     "metadata": {},
     "output_type": "execute_result"
    }
   ],
   "source": [
    "# count\n",
    "a=[7,8,4.5,7,6,3]\n",
    "a.count(7)        # count the specified value in function"
   ]
  },
  {
   "cell_type": "code",
   "execution_count": null,
   "metadata": {},
   "outputs": [],
   "source": []
  },
  {
   "cell_type": "code",
   "execution_count": null,
   "metadata": {},
   "outputs": [],
   "source": []
  },
  {
   "cell_type": "code",
   "execution_count": null,
   "metadata": {},
   "outputs": [],
   "source": []
  },
  {
   "cell_type": "code",
   "execution_count": null,
   "metadata": {},
   "outputs": [],
   "source": []
  }
 ],
 "metadata": {
  "kernelspec": {
   "display_name": "Python 3",
   "language": "python",
   "name": "python3"
  },
  "language_info": {
   "codemirror_mode": {
    "name": "ipython",
    "version": 3
   },
   "file_extension": ".py",
   "mimetype": "text/x-python",
   "name": "python",
   "nbconvert_exporter": "python",
   "pygments_lexer": "ipython3",
   "version": "3.8.5"
  }
 },
 "nbformat": 4,
 "nbformat_minor": 4
}
